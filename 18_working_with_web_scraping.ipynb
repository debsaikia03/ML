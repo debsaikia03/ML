{
 "cells": [
  {
   "cell_type": "code",
   "execution_count": 1,
   "id": "5cd4830d-6049-4008-9c2e-29f20c475561",
   "metadata": {},
   "outputs": [],
   "source": [
    "import pandas as pd\n",
    "import requests\n",
    "from bs4 import BeautifulSoup"
   ]
  },
  {
   "cell_type": "code",
   "execution_count": 2,
   "id": "18909fca-27e0-4166-9240-d25ed1b9b0db",
   "metadata": {},
   "outputs": [
    {
     "data": {
      "text/plain": [
       "'<HTML><HEAD>\\n<TITLE>Access Denied</TITLE>\\n</HEAD><BODY>\\n<H1>Access Denied</H1>\\n \\nYou don\\'t have permission to access \"http&#58;&#47;&#47;www&#46;ambitionbox&#46;com&#47;list&#45;of&#45;companies&#63;\" on this server.<P>\\nReference&#32;&#35;18&#46;8689d317&#46;1736266372&#46;904e5004\\n<P>https&#58;&#47;&#47;errors&#46;edgesuite&#46;net&#47;18&#46;8689d317&#46;1736266372&#46;904e5004</P>\\n</BODY>\\n</HTML>\\n'"
      ]
     },
     "execution_count": 2,
     "metadata": {},
     "output_type": "execute_result"
    }
   ],
   "source": [
    "requests.get('https://www.ambitionbox.com/list-of-companies?page=1').text"
   ]
  },
  {
   "cell_type": "code",
   "execution_count": 3,
   "id": "c96956b4-2344-46ea-8627-41786bb8e5ca",
   "metadata": {},
   "outputs": [],
   "source": [
    "headers = {\n",
    "    'User-Agent': 'Mozilla/5.0 (Windows NT 10.0; Win64; x64) AppleWebKit/537.36 (KHTML, like Gecko) Chrome/117.0.0.0 Safari/537.36',\n",
    "    'Accept': 'text/html,application/xhtml+xml,application/xml;q=0.9,image/avif,image/webp,image/apng,*/*;q=0.8',\n",
    "    'Accept-Language': 'en-US,en;q=0.9',\n",
    "    'Referer': 'https://www.google.com/'\n",
    "}\n",
    "\n",
    "\n",
    "url = 'https://books.toscrape.com/catalogue/page-1.html'\n",
    "\n",
    "response = requests.get(url, headers=headers).text"
   ]
  },
  {
   "cell_type": "code",
   "execution_count": 4,
   "id": "c2dcbc4b-5917-40ad-84fd-946a8ae5b0b0",
   "metadata": {},
   "outputs": [],
   "source": [
    "soup= BeautifulSoup(response, 'lxml')"
   ]
  },
  {
   "cell_type": "code",
   "execution_count": 50,
   "id": "c4204e76-8ac3-488b-8158-86cc11b7a289",
   "metadata": {},
   "outputs": [],
   "source": [
    "#print(soup.prettify()) -> prints the wholw html structure of the website"
   ]
  },
  {
   "cell_type": "code",
   "execution_count": 6,
   "id": "183f8af1-ff5c-4589-80ce-b8ad304aae0c",
   "metadata": {},
   "outputs": [
    {
     "data": {
      "text/plain": [
       "[<h1>All products</h1>]"
      ]
     },
     "execution_count": 6,
     "metadata": {},
     "output_type": "execute_result"
    }
   ],
   "source": [
    "soup.find_all('h1')"
   ]
  },
  {
   "cell_type": "code",
   "execution_count": 7,
   "id": "14d848a4-0cea-4244-80b2-6dc777726cc9",
   "metadata": {},
   "outputs": [
    {
     "data": {
      "text/plain": [
       "'All products'"
      ]
     },
     "execution_count": 7,
     "metadata": {},
     "output_type": "execute_result"
    }
   ],
   "source": [
    "soup.find_all('h1')[0].text"
   ]
  },
  {
   "cell_type": "code",
   "execution_count": 8,
   "id": "a1ded7d3-29ac-4c71-a42b-4fa68f9f6ef5",
   "metadata": {},
   "outputs": [
    {
     "data": {
      "text/plain": [
       "'A Light in the ...'"
      ]
     },
     "execution_count": 8,
     "metadata": {},
     "output_type": "execute_result"
    }
   ],
   "source": [
    "soup.find_all('h3')[0].text"
   ]
  },
  {
   "cell_type": "code",
   "execution_count": 43,
   "id": "e6cdad95-5557-4256-8ae5-1f2865bf5f19",
   "metadata": {},
   "outputs": [
    {
     "data": {
      "text/plain": [
       "['A Light in the Attic',\n",
       " 'Tipping the Velvet',\n",
       " 'Soumission',\n",
       " 'Sharp Objects',\n",
       " 'Sapiens: A Brief History of Humankind',\n",
       " 'The Requiem Red',\n",
       " 'The Dirty Little Secrets of Getting Your Dream Job',\n",
       " 'The Coming Woman: A Novel Based on the Life of the Infamous Feminist, Victoria Woodhull',\n",
       " 'The Boys in the Boat: Nine Americans and Their Epic Quest for Gold at the 1936 Berlin Olympics',\n",
       " 'The Black Maria',\n",
       " 'Starving Hearts (Triangular Trade Trilogy, #1)',\n",
       " \"Shakespeare's Sonnets\",\n",
       " 'Set Me Free',\n",
       " \"Scott Pilgrim's Precious Little Life (Scott Pilgrim #1)\",\n",
       " 'Rip it Up and Start Again',\n",
       " 'Our Band Could Be Your Life: Scenes from the American Indie Underground, 1981-1991',\n",
       " 'Olio',\n",
       " 'Mesaerion: The Best Science Fiction Stories 1800-1849',\n",
       " 'Libertarianism for Beginners',\n",
       " \"It's Only the Himalayas\"]"
      ]
     },
     "execution_count": 43,
     "metadata": {},
     "output_type": "execute_result"
    }
   ],
   "source": [
    "books = soup.find_all('article', class_='product_pod')\n",
    "\n",
    "title = []\n",
    "# Extract titles and ratings\n",
    "for book in books:\n",
    "    # Get the title\n",
    "    title.append(book.h3.a['title'])  \n",
    "\n",
    "title"
   ]
  },
  {
   "cell_type": "code",
   "execution_count": 45,
   "id": "acf7650d-0344-408a-adef-b29d9ed435a8",
   "metadata": {},
   "outputs": [
    {
     "data": {
      "text/plain": [
       "[3, 1, 1, 4, 5, 1, 4, 3, 4, 1, 2, 4, 5, 5, 5, 3, 1, 1, 2, 2]"
      ]
     },
     "execution_count": 45,
     "metadata": {},
     "output_type": "execute_result"
    }
   ],
   "source": [
    "numeric_rating=[] \n",
    "\n",
    "rating_map = {'One': 1, 'Two': 2, 'Three': 3, 'Four': 4, 'Five': 5}\n",
    "\n",
    "for i in books:\n",
    "    \n",
    "    r_tag = i.find('p', class_='star-rating')\n",
    "    rating = r_tag['class'][1]\n",
    "\n",
    "\n",
    "    numeric_rating.append(rating_map[rating])\n",
    "\n",
    "numeric_rating"
   ]
  },
  {
   "cell_type": "code",
   "execution_count": 47,
   "id": "6d307c9b-80c0-4dfb-adc0-1b7f97ac8f95",
   "metadata": {},
   "outputs": [
    {
     "data": {
      "text/plain": [
       "['£51.77',\n",
       " '£53.74',\n",
       " '£50.10',\n",
       " '£47.82',\n",
       " '£54.23',\n",
       " '£22.65',\n",
       " '£33.34',\n",
       " '£17.93',\n",
       " '£22.60',\n",
       " '£52.15',\n",
       " '£13.99',\n",
       " '£20.66',\n",
       " '£17.46',\n",
       " '£52.29',\n",
       " '£35.02',\n",
       " '£57.25',\n",
       " '£23.88',\n",
       " '£37.59',\n",
       " '£51.33',\n",
       " '£45.17']"
      ]
     },
     "execution_count": 47,
     "metadata": {},
     "output_type": "execute_result"
    }
   ],
   "source": [
    "price = []\n",
    "\n",
    "for i in books:\n",
    "\n",
    "    p_tag= i.find('p', class_='price_color')\n",
    "    price.append(p_tag.text.lstrip('Â'))\n",
    "\n",
    "price"
   ]
  },
  {
   "cell_type": "code",
   "execution_count": 60,
   "id": "7c13471a-2525-4836-bb73-f67e00348994",
   "metadata": {},
   "outputs": [
    {
     "data": {
      "text/html": [
       "<div>\n",
       "<style scoped>\n",
       "    .dataframe tbody tr th:only-of-type {\n",
       "        vertical-align: middle;\n",
       "    }\n",
       "\n",
       "    .dataframe tbody tr th {\n",
       "        vertical-align: top;\n",
       "    }\n",
       "\n",
       "    .dataframe thead th {\n",
       "        text-align: right;\n",
       "    }\n",
       "</style>\n",
       "<table border=\"1\" class=\"dataframe\">\n",
       "  <thead>\n",
       "    <tr style=\"text-align: left;\">\n",
       "      <th></th>\n",
       "      <th>title</th>\n",
       "      <th>rating(out of 5)</th>\n",
       "      <th>price</th>\n",
       "    </tr>\n",
       "  </thead>\n",
       "  <tbody>\n",
       "    <tr>\n",
       "      <th>0</th>\n",
       "      <td>A Light in the Attic</td>\n",
       "      <td>3</td>\n",
       "      <td>£51.77</td>\n",
       "    </tr>\n",
       "    <tr>\n",
       "      <th>1</th>\n",
       "      <td>Tipping the Velvet</td>\n",
       "      <td>1</td>\n",
       "      <td>£53.74</td>\n",
       "    </tr>\n",
       "    <tr>\n",
       "      <th>2</th>\n",
       "      <td>Soumission</td>\n",
       "      <td>1</td>\n",
       "      <td>£50.10</td>\n",
       "    </tr>\n",
       "    <tr>\n",
       "      <th>3</th>\n",
       "      <td>Sharp Objects</td>\n",
       "      <td>4</td>\n",
       "      <td>£47.82</td>\n",
       "    </tr>\n",
       "    <tr>\n",
       "      <th>4</th>\n",
       "      <td>Sapiens: A Brief History of Humankind</td>\n",
       "      <td>5</td>\n",
       "      <td>£54.23</td>\n",
       "    </tr>\n",
       "    <tr>\n",
       "      <th>5</th>\n",
       "      <td>The Requiem Red</td>\n",
       "      <td>1</td>\n",
       "      <td>£22.65</td>\n",
       "    </tr>\n",
       "    <tr>\n",
       "      <th>6</th>\n",
       "      <td>The Dirty Little Secrets of Getting Your Dream...</td>\n",
       "      <td>4</td>\n",
       "      <td>£33.34</td>\n",
       "    </tr>\n",
       "    <tr>\n",
       "      <th>7</th>\n",
       "      <td>The Coming Woman: A Novel Based on the Life of...</td>\n",
       "      <td>3</td>\n",
       "      <td>£17.93</td>\n",
       "    </tr>\n",
       "    <tr>\n",
       "      <th>8</th>\n",
       "      <td>The Boys in the Boat: Nine Americans and Their...</td>\n",
       "      <td>4</td>\n",
       "      <td>£22.60</td>\n",
       "    </tr>\n",
       "    <tr>\n",
       "      <th>9</th>\n",
       "      <td>The Black Maria</td>\n",
       "      <td>1</td>\n",
       "      <td>£52.15</td>\n",
       "    </tr>\n",
       "    <tr>\n",
       "      <th>10</th>\n",
       "      <td>Starving Hearts (Triangular Trade Trilogy, #1)</td>\n",
       "      <td>2</td>\n",
       "      <td>£13.99</td>\n",
       "    </tr>\n",
       "    <tr>\n",
       "      <th>11</th>\n",
       "      <td>Shakespeare's Sonnets</td>\n",
       "      <td>4</td>\n",
       "      <td>£20.66</td>\n",
       "    </tr>\n",
       "    <tr>\n",
       "      <th>12</th>\n",
       "      <td>Set Me Free</td>\n",
       "      <td>5</td>\n",
       "      <td>£17.46</td>\n",
       "    </tr>\n",
       "    <tr>\n",
       "      <th>13</th>\n",
       "      <td>Scott Pilgrim's Precious Little Life (Scott Pi...</td>\n",
       "      <td>5</td>\n",
       "      <td>£52.29</td>\n",
       "    </tr>\n",
       "    <tr>\n",
       "      <th>14</th>\n",
       "      <td>Rip it Up and Start Again</td>\n",
       "      <td>5</td>\n",
       "      <td>£35.02</td>\n",
       "    </tr>\n",
       "    <tr>\n",
       "      <th>15</th>\n",
       "      <td>Our Band Could Be Your Life: Scenes from the A...</td>\n",
       "      <td>3</td>\n",
       "      <td>£57.25</td>\n",
       "    </tr>\n",
       "    <tr>\n",
       "      <th>16</th>\n",
       "      <td>Olio</td>\n",
       "      <td>1</td>\n",
       "      <td>£23.88</td>\n",
       "    </tr>\n",
       "    <tr>\n",
       "      <th>17</th>\n",
       "      <td>Mesaerion: The Best Science Fiction Stories 18...</td>\n",
       "      <td>1</td>\n",
       "      <td>£37.59</td>\n",
       "    </tr>\n",
       "    <tr>\n",
       "      <th>18</th>\n",
       "      <td>Libertarianism for Beginners</td>\n",
       "      <td>2</td>\n",
       "      <td>£51.33</td>\n",
       "    </tr>\n",
       "    <tr>\n",
       "      <th>19</th>\n",
       "      <td>It's Only the Himalayas</td>\n",
       "      <td>2</td>\n",
       "      <td>£45.17</td>\n",
       "    </tr>\n",
       "  </tbody>\n",
       "</table>\n",
       "</div>"
      ],
      "text/plain": [
       "   title                                               rating(out of 5)  \\\n",
       "0                                A Light in the Attic  3                  \n",
       "1                                  Tipping the Velvet  1                  \n",
       "2                                          Soumission  1                  \n",
       "3                                       Sharp Objects  4                  \n",
       "4               Sapiens: A Brief History of Humankind  5                  \n",
       "5                                     The Requiem Red  1                  \n",
       "6   The Dirty Little Secrets of Getting Your Dream...  4                  \n",
       "7   The Coming Woman: A Novel Based on the Life of...  3                  \n",
       "8   The Boys in the Boat: Nine Americans and Their...  4                  \n",
       "9                                     The Black Maria  1                  \n",
       "10     Starving Hearts (Triangular Trade Trilogy, #1)  2                  \n",
       "11                              Shakespeare's Sonnets  4                  \n",
       "12                                        Set Me Free  5                  \n",
       "13  Scott Pilgrim's Precious Little Life (Scott Pi...  5                  \n",
       "14                          Rip it Up and Start Again  5                  \n",
       "15  Our Band Could Be Your Life: Scenes from the A...  3                  \n",
       "16                                               Olio  1                  \n",
       "17  Mesaerion: The Best Science Fiction Stories 18...  1                  \n",
       "18                       Libertarianism for Beginners  2                  \n",
       "19                            It's Only the Himalayas  2                  \n",
       "\n",
       "   price    \n",
       "0   £51.77  \n",
       "1   £53.74  \n",
       "2   £50.10  \n",
       "3   £47.82  \n",
       "4   £54.23  \n",
       "5   £22.65  \n",
       "6   £33.34  \n",
       "7   £17.93  \n",
       "8   £22.60  \n",
       "9   £52.15  \n",
       "10  £13.99  \n",
       "11  £20.66  \n",
       "12  £17.46  \n",
       "13  £52.29  \n",
       "14  £35.02  \n",
       "15  £57.25  \n",
       "16  £23.88  \n",
       "17  £37.59  \n",
       "18  £51.33  \n",
       "19  £45.17  "
      ]
     },
     "execution_count": 60,
     "metadata": {},
     "output_type": "execute_result"
    }
   ],
   "source": [
    "d = {'title': title, 'rating(out of 5)': numeric_rating, 'price': price}\n",
    "\n",
    "df = pd.DataFrame(d)\n",
    "\n",
    "df"
   ]
  },
  {
   "cell_type": "code",
   "execution_count": 96,
   "id": "f7139be6-1898-49b9-ab4f-7f4471806ffc",
   "metadata": {},
   "outputs": [
    {
     "data": {
      "text/html": [
       "<div>\n",
       "<style scoped>\n",
       "    .dataframe tbody tr th:only-of-type {\n",
       "        vertical-align: middle;\n",
       "    }\n",
       "\n",
       "    .dataframe tbody tr th {\n",
       "        vertical-align: top;\n",
       "    }\n",
       "\n",
       "    .dataframe thead th {\n",
       "        text-align: right;\n",
       "    }\n",
       "</style>\n",
       "<table border=\"1\" class=\"dataframe\">\n",
       "  <thead>\n",
       "    <tr style=\"text-align: left;\">\n",
       "      <th></th>\n",
       "      <th>title</th>\n",
       "      <th>rating(out of 5)</th>\n",
       "      <th>price</th>\n",
       "    </tr>\n",
       "  </thead>\n",
       "  <tbody>\n",
       "    <tr>\n",
       "      <th>0</th>\n",
       "      <td>A Light in the Attic</td>\n",
       "      <td>3</td>\n",
       "      <td>£51.77</td>\n",
       "    </tr>\n",
       "    <tr>\n",
       "      <th>1</th>\n",
       "      <td>Tipping the Velvet</td>\n",
       "      <td>1</td>\n",
       "      <td>£53.74</td>\n",
       "    </tr>\n",
       "    <tr>\n",
       "      <th>2</th>\n",
       "      <td>Soumission</td>\n",
       "      <td>1</td>\n",
       "      <td>£50.10</td>\n",
       "    </tr>\n",
       "    <tr>\n",
       "      <th>3</th>\n",
       "      <td>Sharp Objects</td>\n",
       "      <td>4</td>\n",
       "      <td>£47.82</td>\n",
       "    </tr>\n",
       "    <tr>\n",
       "      <th>4</th>\n",
       "      <td>Sapiens: A Brief History of Humankind</td>\n",
       "      <td>5</td>\n",
       "      <td>£54.23</td>\n",
       "    </tr>\n",
       "    <tr>\n",
       "      <th>...</th>\n",
       "      <td>...</td>\n",
       "      <td>...</td>\n",
       "      <td>...</td>\n",
       "    </tr>\n",
       "    <tr>\n",
       "      <th>995</th>\n",
       "      <td>Alice in Wonderland (Alice's Adventures in Won...</td>\n",
       "      <td>1</td>\n",
       "      <td>£55.53</td>\n",
       "    </tr>\n",
       "    <tr>\n",
       "      <th>996</th>\n",
       "      <td>Ajin: Demi-Human, Volume 1 (Ajin: Demi-Human #1)</td>\n",
       "      <td>4</td>\n",
       "      <td>£57.06</td>\n",
       "    </tr>\n",
       "    <tr>\n",
       "      <th>997</th>\n",
       "      <td>A Spy's Devotion (The Regency Spies of London #1)</td>\n",
       "      <td>5</td>\n",
       "      <td>£16.97</td>\n",
       "    </tr>\n",
       "    <tr>\n",
       "      <th>998</th>\n",
       "      <td>1st to Die (Women's Murder Club #1)</td>\n",
       "      <td>1</td>\n",
       "      <td>£53.98</td>\n",
       "    </tr>\n",
       "    <tr>\n",
       "      <th>999</th>\n",
       "      <td>1,000 Places to See Before You Die</td>\n",
       "      <td>5</td>\n",
       "      <td>£26.08</td>\n",
       "    </tr>\n",
       "  </tbody>\n",
       "</table>\n",
       "<p>1000 rows × 3 columns</p>\n",
       "</div>"
      ],
      "text/plain": [
       "    title                                               rating(out of 5)  \\\n",
       "0                                 A Light in the Attic  3                  \n",
       "1                                   Tipping the Velvet  1                  \n",
       "2                                           Soumission  1                  \n",
       "3                                        Sharp Objects  4                  \n",
       "4                Sapiens: A Brief History of Humankind  5                  \n",
       "..                                                 ...               ...   \n",
       "995  Alice in Wonderland (Alice's Adventures in Won...  1                  \n",
       "996   Ajin: Demi-Human, Volume 1 (Ajin: Demi-Human #1)  4                  \n",
       "997  A Spy's Devotion (The Regency Spies of London #1)  5                  \n",
       "998                1st to Die (Women's Murder Club #1)  1                  \n",
       "999                 1,000 Places to See Before You Die  5                  \n",
       "\n",
       "    price    \n",
       "0    £51.77  \n",
       "1    £53.74  \n",
       "2    £50.10  \n",
       "3    £47.82  \n",
       "4    £54.23  \n",
       "..      ...  \n",
       "995  £55.53  \n",
       "996  £57.06  \n",
       "997  £16.97  \n",
       "998  £53.98  \n",
       "999  £26.08  \n",
       "\n",
       "[1000 rows x 3 columns]"
      ]
     },
     "execution_count": 96,
     "metadata": {},
     "output_type": "execute_result"
    }
   ],
   "source": [
    "import requests\n",
    "import pandas as pd\n",
    "from bs4 import BeautifulSoup\n",
    "\n",
    "final = pd.DataFrame()\n",
    "\n",
    "# Iterate through pages 1 to 50\n",
    "for j in range(1, 51):\n",
    "    headers = {\n",
    "        'User-Agent': 'Mozilla/5.0 (Windows NT 10.0; Win64; x64) AppleWebKit/537.36 (KHTML, like Gecko) Chrome/117.0.0.0 Safari/537.36',\n",
    "        'Accept': 'text/html,application/xhtml+xml,application/xml;q=0.9,image/avif,image/webp,image/apng,*/*;q=0.8',\n",
    "        'Accept-Language': 'en-US,en;q=0.9',\n",
    "        'Referer': 'https://www.google.com/'\n",
    "    }\n",
    "\n",
    "    # Form the URL for each page\n",
    "    url = 'https://books.toscrape.com/catalogue/page-{}.html'.format(j)\n",
    "    response = requests.get(url, headers=headers).text\n",
    "    \n",
    "    # Parse the response with BeautifulSoup\n",
    "    soup = BeautifulSoup(response, 'lxml')\n",
    "\n",
    "    # Find all book elements\n",
    "    books = soup.find_all('article', class_='product_pod')\n",
    "\n",
    "    # Data to be stored for the current page\n",
    "    titles = []\n",
    "    ratings = []\n",
    "    prices = []\n",
    "\n",
    "    # Rating map for converting to numeric ratings\n",
    "    rating_map = {'One': 1, 'Two': 2, 'Three': 3, 'Four': 4, 'Five': 5}\n",
    "\n",
    "    # Extract data for each book on the page\n",
    "    for i in books:\n",
    "        titles.append(i.h3.a['title'])\n",
    "\n",
    "        r_tag = i.find('p', class_='star-rating')\n",
    "        rating = r_tag['class'][1]\n",
    "        ratings.append(rating_map[rating])\n",
    "\n",
    "        p_tag = i.find('p', class_='price_color')\n",
    "        prices.append(p_tag.text.lstrip('Â'))  # Remove unwanted characters from price\n",
    "\n",
    "    # After collecting data for all books on the page, create a DataFrame for the page\n",
    "    page_df = pd.DataFrame({\n",
    "        'title': titles,\n",
    "        'rating(out of 5)': ratings,\n",
    "        'price': prices\n",
    "    })\n",
    "\n",
    "    # Append the page DataFrame to the final DataFrame\n",
    "    final = pd.concat([final, page_df], ignore_index=True)\n",
    "\n",
    "# Display the final DataFrame after scraping all pages\n",
    "final"
   ]
  },
  {
   "cell_type": "code",
   "execution_count": 98,
   "id": "b8c4bcb8-b679-43cf-9071-f7a508ba4d6d",
   "metadata": {},
   "outputs": [
    {
     "data": {
      "text/plain": [
       "(1000, 3)"
      ]
     },
     "execution_count": 98,
     "metadata": {},
     "output_type": "execute_result"
    }
   ],
   "source": [
    "final.shape"
   ]
  },
  {
   "cell_type": "code",
   "execution_count": 100,
   "id": "91ae238c-ec1f-47c2-8d16-9a4e8ecb4813",
   "metadata": {},
   "outputs": [],
   "source": [
    "final.to_csv('book_listing_scrape.csv')"
   ]
  },
  {
   "cell_type": "code",
   "execution_count": null,
   "id": "0eaa6ba0-ab45-4f95-9912-78cf2f8d61b2",
   "metadata": {},
   "outputs": [],
   "source": []
  }
 ],
 "metadata": {
  "kernelspec": {
   "display_name": "Python [conda env:base] *",
   "language": "python",
   "name": "conda-base-py"
  },
  "language_info": {
   "codemirror_mode": {
    "name": "ipython",
    "version": 3
   },
   "file_extension": ".py",
   "mimetype": "text/x-python",
   "name": "python",
   "nbconvert_exporter": "python",
   "pygments_lexer": "ipython3",
   "version": "3.12.7"
  }
 },
 "nbformat": 4,
 "nbformat_minor": 5
}
