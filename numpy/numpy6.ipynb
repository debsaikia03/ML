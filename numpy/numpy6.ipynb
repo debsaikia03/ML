{
 "cells": [
  {
   "cell_type": "markdown",
   "id": "38ec7595-1730-446b-adaa-ba12efcc3ef5",
   "metadata": {},
   "source": [
    "Numpy Functions"
   ]
  },
  {
   "cell_type": "code",
   "execution_count": 3,
   "id": "5dc24f88-5ffa-497c-91b4-6467e1aa0545",
   "metadata": {},
   "outputs": [],
   "source": [
    "import numpy as np"
   ]
  },
  {
   "cell_type": "code",
   "execution_count": 7,
   "id": "a603a2e4-042a-4f35-9833-0c772e22ffa1",
   "metadata": {},
   "outputs": [
    {
     "data": {
      "text/plain": [
       "0.2495632848904018"
      ]
     },
     "execution_count": 7,
     "metadata": {},
     "output_type": "execute_result"
    }
   ],
   "source": [
    "np.random.random()"
   ]
  },
  {
   "cell_type": "code",
   "execution_count": 13,
   "id": "3b1653ca-3ceb-4a8d-b4ff-fd3b8da12a37",
   "metadata": {},
   "outputs": [
    {
     "data": {
      "text/plain": [
       "0.417022004702574"
      ]
     },
     "execution_count": 13,
     "metadata": {},
     "output_type": "execute_result"
    }
   ],
   "source": [
    "np.random.seed(1) #seed gives the same random value\n",
    "np.random.random()"
   ]
  },
  {
   "cell_type": "code",
   "execution_count": 19,
   "id": "2cc834ef-f1e4-4fa0-a3ad-24502e5cbc4b",
   "metadata": {},
   "outputs": [
    {
     "data": {
      "text/plain": [
       "3.7209931536865577"
      ]
     },
     "execution_count": 19,
     "metadata": {},
     "output_type": "execute_result"
    }
   ],
   "source": [
    "np.random.uniform(1,10) #random value b/w 1 and 10"
   ]
  },
  {
   "cell_type": "code",
   "execution_count": 25,
   "id": "d6e0d39b-18f0-41f5-aca6-d550574a1b85",
   "metadata": {},
   "outputs": [
    {
     "data": {
      "text/plain": [
       "array([87.76252608, 89.56605969,  9.41937693,  4.86642354, 17.81321154,\n",
       "       87.93610784, 10.73633655, 42.68965488, 95.83106348, 53.78336321])"
      ]
     },
     "execution_count": 25,
     "metadata": {},
     "output_type": "execute_result"
    }
   ],
   "source": [
    "np.random.uniform(1,100,10) #10 random values b/w 1 and 100"
   ]
  },
  {
   "cell_type": "code",
   "execution_count": 27,
   "id": "b4685916-8f97-4b50-ba89-4f79f10b1273",
   "metadata": {},
   "outputs": [
    {
     "data": {
      "text/plain": [
       "array([[69.49583428, 32.23604747, 68.96359184, 83.62794152,  2.81053946],\n",
       "       [75.26428718, 98.8972478 , 75.06839978, 28.76395521, 79.13865352]])"
      ]
     },
     "execution_count": 27,
     "metadata": {},
     "output_type": "execute_result"
    }
   ],
   "source": [
    "np.random.uniform(1,100,10).reshape(2,5)"
   ]
  },
  {
   "cell_type": "code",
   "execution_count": 29,
   "id": "41dfb561-f6ea-480b-b86c-3574519a7fa6",
   "metadata": {},
   "outputs": [
    {
     "data": {
      "text/plain": [
       "array([[9, 7, 4, 8, 8],\n",
       "       [5, 6, 4, 7, 9],\n",
       "       [1, 3, 8, 8, 8]])"
      ]
     },
     "execution_count": 29,
     "metadata": {},
     "output_type": "execute_result"
    }
   ],
   "source": [
    "np.random.randint(1,10,15).reshape(3,5)"
   ]
  },
  {
   "cell_type": "code",
   "execution_count": 33,
   "id": "5318b35b-8836-4b05-bb7d-eb054fddd67c",
   "metadata": {},
   "outputs": [
    {
     "data": {
      "text/plain": [
       "array([2, 4, 1, 9, 7, 5])"
      ]
     },
     "execution_count": 33,
     "metadata": {},
     "output_type": "execute_result"
    }
   ],
   "source": [
    "a= np.random.randint(1,10,6)\n",
    "a"
   ]
  },
  {
   "cell_type": "code",
   "execution_count": 35,
   "id": "5da92675-26f5-483b-b8e2-05ce0fc3b375",
   "metadata": {},
   "outputs": [
    {
     "data": {
      "text/plain": [
       "9"
      ]
     },
     "execution_count": 35,
     "metadata": {},
     "output_type": "execute_result"
    }
   ],
   "source": [
    "np.max(a)"
   ]
  },
  {
   "cell_type": "code",
   "execution_count": 37,
   "id": "27e6029f-dbd6-4cd7-b538-5219d7339103",
   "metadata": {},
   "outputs": [
    {
     "data": {
      "text/plain": [
       "1"
      ]
     },
     "execution_count": 37,
     "metadata": {},
     "output_type": "execute_result"
    }
   ],
   "source": [
    "np.min(a)"
   ]
  },
  {
   "cell_type": "code",
   "execution_count": 39,
   "id": "384f6e75-90f2-47b6-825a-67712bf96a20",
   "metadata": {},
   "outputs": [
    {
     "data": {
      "text/plain": [
       "3"
      ]
     },
     "execution_count": 39,
     "metadata": {},
     "output_type": "execute_result"
    }
   ],
   "source": [
    "np.argmax(a)"
   ]
  },
  {
   "cell_type": "code",
   "execution_count": 41,
   "id": "34df282c-8f77-4109-83ce-6517ccb04173",
   "metadata": {},
   "outputs": [
    {
     "data": {
      "text/plain": [
       "9"
      ]
     },
     "execution_count": 41,
     "metadata": {},
     "output_type": "execute_result"
    }
   ],
   "source": [
    "a[np.argmax(a)]"
   ]
  },
  {
   "cell_type": "code",
   "execution_count": 43,
   "id": "ebee6e5a-98b2-47ff-b1a3-29c3359780a5",
   "metadata": {},
   "outputs": [
    {
     "data": {
      "text/plain": [
       "1"
      ]
     },
     "execution_count": 43,
     "metadata": {},
     "output_type": "execute_result"
    }
   ],
   "source": [
    "a[np.argmin(a)]"
   ]
  },
  {
   "cell_type": "code",
   "execution_count": 45,
   "id": "9a6badbb-4448-4757-bd34-2d916e988235",
   "metadata": {},
   "outputs": [
    {
     "data": {
      "text/plain": [
       "2"
      ]
     },
     "execution_count": 45,
     "metadata": {},
     "output_type": "execute_result"
    }
   ],
   "source": [
    "np.argmin(a)"
   ]
  },
  {
   "cell_type": "code",
   "execution_count": 47,
   "id": "49e66e85-4db5-4b0b-b931-df1caf8a1dbf",
   "metadata": {},
   "outputs": [
    {
     "data": {
      "text/plain": [
       "array([6, 7, 3, 6, 8, 9])"
      ]
     },
     "execution_count": 47,
     "metadata": {},
     "output_type": "execute_result"
    }
   ],
   "source": [
    "a= np.random.randint(1,10,6)\n",
    "a"
   ]
  },
  {
   "cell_type": "code",
   "execution_count": 50,
   "id": "74d6fedb-f3f1-489c-bb04-fc15d946f484",
   "metadata": {},
   "outputs": [
    {
     "data": {
      "text/plain": [
       "array([ 6, -1, -1,  6,  8, -1])"
      ]
     },
     "execution_count": 50,
     "metadata": {},
     "output_type": "execute_result"
    }
   ],
   "source": [
    "a[a%2==1] = -1\n",
    "a"
   ]
  },
  {
   "cell_type": "markdown",
   "id": "0b811a2c-7c13-415a-b4e1-1c77bddf3051",
   "metadata": {},
   "source": [
    "np.where -> Where(condition,true,false)"
   ]
  },
  {
   "cell_type": "code",
   "execution_count": 57,
   "id": "c7edfe24-1f7c-473e-9038-e7d57caa51cd",
   "metadata": {},
   "outputs": [
    {
     "data": {
      "text/plain": [
       "array([19, 33, 14, 11, 24, 18])"
      ]
     },
     "execution_count": 57,
     "metadata": {},
     "output_type": "execute_result"
    }
   ],
   "source": [
    "a= np.random.randint(1,50,6)\n",
    "a"
   ]
  },
  {
   "cell_type": "code",
   "execution_count": 59,
   "id": "7d5af16d-e879-4367-aae6-38d333e4dbf1",
   "metadata": {},
   "outputs": [
    {
     "data": {
      "text/plain": [
       "array([-1, -1, 14, -1, 24, 18])"
      ]
     },
     "execution_count": 59,
     "metadata": {},
     "output_type": "execute_result"
    }
   ],
   "source": [
    "np.where(a%2==1, -1, a)"
   ]
  },
  {
   "cell_type": "code",
   "execution_count": 61,
   "id": "863bac4d-81e0-4551-95cf-ce71bbacdb6c",
   "metadata": {},
   "outputs": [
    {
     "data": {
      "text/plain": [
       "array([19, 33, 14, 11, 24, 18])"
      ]
     },
     "execution_count": 61,
     "metadata": {},
     "output_type": "execute_result"
    }
   ],
   "source": [
    "a"
   ]
  },
  {
   "cell_type": "code",
   "execution_count": 65,
   "id": "e096dac3-e1c2-463d-ab82-3d02cf64f381",
   "metadata": {},
   "outputs": [
    {
     "data": {
      "text/plain": [
       "array([-1, -1, 14, -1, 24, 18])"
      ]
     },
     "execution_count": 65,
     "metadata": {},
     "output_type": "execute_result"
    }
   ],
   "source": [
    "b= np.where(a%2==1, -1, a)\n",
    "b"
   ]
  },
  {
   "cell_type": "code",
   "execution_count": 69,
   "id": "88dda7e5-84df-435c-9755-3817d92e590f",
   "metadata": {},
   "outputs": [
    {
     "data": {
      "text/plain": [
       "array([13,  2, 31, 42, 25, 19, 34,  3, 45, 29])"
      ]
     },
     "execution_count": 69,
     "metadata": {},
     "output_type": "execute_result"
    }
   ],
   "source": [
    "a= np.random.randint(1,50,10)\n",
    "a"
   ]
  },
  {
   "cell_type": "code",
   "execution_count": 73,
   "id": "3d5b9394-5061-498f-9a0a-5577c8e2c95d",
   "metadata": {},
   "outputs": [
    {
     "data": {
      "text/plain": [
       "array([ 2,  3, 13, 19, 25, 29, 31, 34, 42, 45])"
      ]
     },
     "execution_count": 73,
     "metadata": {},
     "output_type": "execute_result"
    }
   ],
   "source": [
    "a= np.sort(a)\n",
    "a"
   ]
  },
  {
   "cell_type": "code",
   "execution_count": 75,
   "id": "fb9592c0-c4e5-4b27-a425-c4013c24e521",
   "metadata": {},
   "outputs": [
    {
     "data": {
      "text/plain": [
       "14.5"
      ]
     },
     "execution_count": 75,
     "metadata": {},
     "output_type": "execute_result"
    }
   ],
   "source": [
    "np.percentile(a,25)"
   ]
  },
  {
   "cell_type": "code",
   "execution_count": 77,
   "id": "904d7cb3-b4a0-4c2d-9cbe-ac32b3386a1d",
   "metadata": {},
   "outputs": [
    {
     "data": {
      "text/plain": [
       "44.946"
      ]
     },
     "execution_count": 77,
     "metadata": {},
     "output_type": "execute_result"
    }
   ],
   "source": [
    "np.percentile(a,99.8)"
   ]
  },
  {
   "cell_type": "code",
   "execution_count": null,
   "id": "6b203f2b-b77f-4118-a37f-f79af7ba7b1d",
   "metadata": {},
   "outputs": [],
   "source": []
  }
 ],
 "metadata": {
  "kernelspec": {
   "display_name": "Python [conda env:base] *",
   "language": "python",
   "name": "conda-base-py"
  },
  "language_info": {
   "codemirror_mode": {
    "name": "ipython",
    "version": 3
   },
   "file_extension": ".py",
   "mimetype": "text/x-python",
   "name": "python",
   "nbconvert_exporter": "python",
   "pygments_lexer": "ipython3",
   "version": "3.12.7"
  }
 },
 "nbformat": 4,
 "nbformat_minor": 5
}
