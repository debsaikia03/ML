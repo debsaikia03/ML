{
 "cells": [
  {
   "cell_type": "code",
   "execution_count": 2,
   "id": "f40213e1-0127-42b0-9fc4-9f8760855980",
   "metadata": {},
   "outputs": [],
   "source": [
    "import numpy as np\n",
    "import pandas as pd"
   ]
  },
  {
   "cell_type": "code",
   "execution_count": 12,
   "id": "92b55f41-7d39-4a2f-bd6e-b5a0feabdd22",
   "metadata": {},
   "outputs": [],
   "source": [
    "#merge dataframes\n",
    "\n",
    "delivery= pd.read_csv('deliveries.csv')\n",
    "match= pd.read_csv('matches.csv')\n",
    "\n",
    "new= delivery.merge(match, left_on='match_id', right_on='id')"
   ]
  },
  {
   "cell_type": "code",
   "execution_count": 14,
   "id": "8c3845e8-ca91-4f5c-8994-f0b2fc88baca",
   "metadata": {},
   "outputs": [
    {
     "name": "stdout",
     "output_type": "stream",
     "text": [
      "(150460, 21)\n",
      "(636, 18)\n"
     ]
    }
   ],
   "source": [
    "print(delivery.shape)\n",
    "print(match.shape)"
   ]
  },
  {
   "cell_type": "code",
   "execution_count": 20,
   "id": "6948c906-9ff0-4eff-ae3d-86caf7089440",
   "metadata": {},
   "outputs": [
    {
     "data": {
      "text/plain": [
       "season  batsman          \n",
       "2008    A Chopra              42\n",
       "        A Kumble              13\n",
       "        A Mishra              37\n",
       "        A Mukund               0\n",
       "        A Nehra                3\n",
       "                            ... \n",
       "2017    Washington Sundar      9\n",
       "        YK Pathan            143\n",
       "        YS Chahal             13\n",
       "        Yuvraj Singh         252\n",
       "        Z Khan                 4\n",
       "Name: batsman_runs, Length: 1531, dtype: int64"
      ]
     },
     "execution_count": 20,
     "metadata": {},
     "output_type": "execute_result"
    }
   ],
   "source": [
    "new.groupby(['season','batsman'])['batsman_runs'].sum()"
   ]
  },
  {
   "cell_type": "code",
   "execution_count": 22,
   "id": "7c6fa764-95b3-4176-8de2-ff0449af21ac",
   "metadata": {},
   "outputs": [
    {
     "data": {
      "text/plain": [
       "pandas.core.series.Series"
      ]
     },
     "execution_count": 22,
     "metadata": {},
     "output_type": "execute_result"
    }
   ],
   "source": [
    "type(new.groupby(['season','batsman'])['batsman_runs'].sum()) #multi index series"
   ]
  },
  {
   "cell_type": "code",
   "execution_count": 24,
   "id": "d38db274-b6c9-4a80-a725-54c1fba9a8ac",
   "metadata": {},
   "outputs": [
    {
     "data": {
      "text/html": [
       "<div>\n",
       "<style scoped>\n",
       "    .dataframe tbody tr th:only-of-type {\n",
       "        vertical-align: middle;\n",
       "    }\n",
       "\n",
       "    .dataframe tbody tr th {\n",
       "        vertical-align: top;\n",
       "    }\n",
       "\n",
       "    .dataframe thead th {\n",
       "        text-align: right;\n",
       "    }\n",
       "</style>\n",
       "<table border=\"1\" class=\"dataframe\">\n",
       "  <thead>\n",
       "    <tr style=\"text-align: right;\">\n",
       "      <th></th>\n",
       "      <th>season</th>\n",
       "      <th>batsman</th>\n",
       "      <th>batsman_runs</th>\n",
       "    </tr>\n",
       "  </thead>\n",
       "  <tbody>\n",
       "    <tr>\n",
       "      <th>0</th>\n",
       "      <td>2008</td>\n",
       "      <td>A Chopra</td>\n",
       "      <td>42</td>\n",
       "    </tr>\n",
       "    <tr>\n",
       "      <th>1</th>\n",
       "      <td>2008</td>\n",
       "      <td>A Kumble</td>\n",
       "      <td>13</td>\n",
       "    </tr>\n",
       "    <tr>\n",
       "      <th>2</th>\n",
       "      <td>2008</td>\n",
       "      <td>A Mishra</td>\n",
       "      <td>37</td>\n",
       "    </tr>\n",
       "    <tr>\n",
       "      <th>3</th>\n",
       "      <td>2008</td>\n",
       "      <td>A Mukund</td>\n",
       "      <td>0</td>\n",
       "    </tr>\n",
       "    <tr>\n",
       "      <th>4</th>\n",
       "      <td>2008</td>\n",
       "      <td>A Nehra</td>\n",
       "      <td>3</td>\n",
       "    </tr>\n",
       "    <tr>\n",
       "      <th>...</th>\n",
       "      <td>...</td>\n",
       "      <td>...</td>\n",
       "      <td>...</td>\n",
       "    </tr>\n",
       "    <tr>\n",
       "      <th>1526</th>\n",
       "      <td>2017</td>\n",
       "      <td>Washington Sundar</td>\n",
       "      <td>9</td>\n",
       "    </tr>\n",
       "    <tr>\n",
       "      <th>1527</th>\n",
       "      <td>2017</td>\n",
       "      <td>YK Pathan</td>\n",
       "      <td>143</td>\n",
       "    </tr>\n",
       "    <tr>\n",
       "      <th>1528</th>\n",
       "      <td>2017</td>\n",
       "      <td>YS Chahal</td>\n",
       "      <td>13</td>\n",
       "    </tr>\n",
       "    <tr>\n",
       "      <th>1529</th>\n",
       "      <td>2017</td>\n",
       "      <td>Yuvraj Singh</td>\n",
       "      <td>252</td>\n",
       "    </tr>\n",
       "    <tr>\n",
       "      <th>1530</th>\n",
       "      <td>2017</td>\n",
       "      <td>Z Khan</td>\n",
       "      <td>4</td>\n",
       "    </tr>\n",
       "  </tbody>\n",
       "</table>\n",
       "<p>1531 rows × 3 columns</p>\n",
       "</div>"
      ],
      "text/plain": [
       "      season            batsman  batsman_runs\n",
       "0       2008           A Chopra            42\n",
       "1       2008           A Kumble            13\n",
       "2       2008           A Mishra            37\n",
       "3       2008           A Mukund             0\n",
       "4       2008            A Nehra             3\n",
       "...      ...                ...           ...\n",
       "1526    2017  Washington Sundar             9\n",
       "1527    2017          YK Pathan           143\n",
       "1528    2017          YS Chahal            13\n",
       "1529    2017       Yuvraj Singh           252\n",
       "1530    2017             Z Khan             4\n",
       "\n",
       "[1531 rows x 3 columns]"
      ]
     },
     "execution_count": 24,
     "metadata": {},
     "output_type": "execute_result"
    }
   ],
   "source": [
    "new.groupby(['season','batsman'])['batsman_runs'].sum().reset_index() #reset index-> series to dataframe"
   ]
  },
  {
   "cell_type": "code",
   "execution_count": 26,
   "id": "6f8f4625-40a0-44b1-8840-596099a10da1",
   "metadata": {},
   "outputs": [
    {
     "data": {
      "text/plain": [
       "season  batsman    \n",
       "2016    V Kohli        973\n",
       "        DA Warner      848\n",
       "2013    MEK Hussey     733\n",
       "2012    CH Gayle       733\n",
       "2013    CH Gayle       720\n",
       "                      ... \n",
       "2017    MM Patel         0\n",
       "2012    AC Blizzard      0\n",
       "2011    AB Dinda         0\n",
       "2017    AD Nath          0\n",
       "2008    L Balaji         0\n",
       "Name: batsman_runs, Length: 1531, dtype: int64"
      ]
     },
     "execution_count": 26,
     "metadata": {},
     "output_type": "execute_result"
    }
   ],
   "source": [
    "new.groupby(['season','batsman'])['batsman_runs'].sum().sort_values(ascending=False)"
   ]
  },
  {
   "cell_type": "code",
   "execution_count": 28,
   "id": "6331b746-b4c6-4da5-83e0-0f92eca657d1",
   "metadata": {},
   "outputs": [
    {
     "data": {
      "text/html": [
       "<div>\n",
       "<style scoped>\n",
       "    .dataframe tbody tr th:only-of-type {\n",
       "        vertical-align: middle;\n",
       "    }\n",
       "\n",
       "    .dataframe tbody tr th {\n",
       "        vertical-align: top;\n",
       "    }\n",
       "\n",
       "    .dataframe thead th {\n",
       "        text-align: right;\n",
       "    }\n",
       "</style>\n",
       "<table border=\"1\" class=\"dataframe\">\n",
       "  <thead>\n",
       "    <tr style=\"text-align: right;\">\n",
       "      <th></th>\n",
       "      <th>season</th>\n",
       "      <th>batsman</th>\n",
       "      <th>batsman_runs</th>\n",
       "    </tr>\n",
       "  </thead>\n",
       "  <tbody>\n",
       "    <tr>\n",
       "      <th>0</th>\n",
       "      <td>2016</td>\n",
       "      <td>V Kohli</td>\n",
       "      <td>973</td>\n",
       "    </tr>\n",
       "    <tr>\n",
       "      <th>1</th>\n",
       "      <td>2016</td>\n",
       "      <td>DA Warner</td>\n",
       "      <td>848</td>\n",
       "    </tr>\n",
       "    <tr>\n",
       "      <th>2</th>\n",
       "      <td>2013</td>\n",
       "      <td>MEK Hussey</td>\n",
       "      <td>733</td>\n",
       "    </tr>\n",
       "    <tr>\n",
       "      <th>3</th>\n",
       "      <td>2012</td>\n",
       "      <td>CH Gayle</td>\n",
       "      <td>733</td>\n",
       "    </tr>\n",
       "    <tr>\n",
       "      <th>4</th>\n",
       "      <td>2013</td>\n",
       "      <td>CH Gayle</td>\n",
       "      <td>720</td>\n",
       "    </tr>\n",
       "    <tr>\n",
       "      <th>...</th>\n",
       "      <td>...</td>\n",
       "      <td>...</td>\n",
       "      <td>...</td>\n",
       "    </tr>\n",
       "    <tr>\n",
       "      <th>1526</th>\n",
       "      <td>2017</td>\n",
       "      <td>MM Patel</td>\n",
       "      <td>0</td>\n",
       "    </tr>\n",
       "    <tr>\n",
       "      <th>1527</th>\n",
       "      <td>2012</td>\n",
       "      <td>AC Blizzard</td>\n",
       "      <td>0</td>\n",
       "    </tr>\n",
       "    <tr>\n",
       "      <th>1528</th>\n",
       "      <td>2011</td>\n",
       "      <td>AB Dinda</td>\n",
       "      <td>0</td>\n",
       "    </tr>\n",
       "    <tr>\n",
       "      <th>1529</th>\n",
       "      <td>2017</td>\n",
       "      <td>AD Nath</td>\n",
       "      <td>0</td>\n",
       "    </tr>\n",
       "    <tr>\n",
       "      <th>1530</th>\n",
       "      <td>2008</td>\n",
       "      <td>L Balaji</td>\n",
       "      <td>0</td>\n",
       "    </tr>\n",
       "  </tbody>\n",
       "</table>\n",
       "<p>1531 rows × 3 columns</p>\n",
       "</div>"
      ],
      "text/plain": [
       "      season      batsman  batsman_runs\n",
       "0       2016      V Kohli           973\n",
       "1       2016    DA Warner           848\n",
       "2       2013   MEK Hussey           733\n",
       "3       2012     CH Gayle           733\n",
       "4       2013     CH Gayle           720\n",
       "...      ...          ...           ...\n",
       "1526    2017     MM Patel             0\n",
       "1527    2012  AC Blizzard             0\n",
       "1528    2011     AB Dinda             0\n",
       "1529    2017      AD Nath             0\n",
       "1530    2008     L Balaji             0\n",
       "\n",
       "[1531 rows x 3 columns]"
      ]
     },
     "execution_count": 28,
     "metadata": {},
     "output_type": "execute_result"
    }
   ],
   "source": [
    "new.groupby(['season','batsman'])['batsman_runs'].sum().sort_values(ascending=False).reset_index()"
   ]
  },
  {
   "cell_type": "code",
   "execution_count": 36,
   "id": "c9abe3c7-4987-4add-9a2c-c28035ee58e7",
   "metadata": {},
   "outputs": [
    {
     "data": {
      "text/html": [
       "<div>\n",
       "<style scoped>\n",
       "    .dataframe tbody tr th:only-of-type {\n",
       "        vertical-align: middle;\n",
       "    }\n",
       "\n",
       "    .dataframe tbody tr th {\n",
       "        vertical-align: top;\n",
       "    }\n",
       "\n",
       "    .dataframe thead th {\n",
       "        text-align: right;\n",
       "    }\n",
       "</style>\n",
       "<table border=\"1\" class=\"dataframe\">\n",
       "  <thead>\n",
       "    <tr style=\"text-align: right;\">\n",
       "      <th></th>\n",
       "      <th>season</th>\n",
       "      <th>batsman</th>\n",
       "    </tr>\n",
       "  </thead>\n",
       "  <tbody>\n",
       "    <tr>\n",
       "      <th>10</th>\n",
       "      <td>2008</td>\n",
       "      <td>SE Marsh</td>\n",
       "    </tr>\n",
       "    <tr>\n",
       "      <th>14</th>\n",
       "      <td>2009</td>\n",
       "      <td>ML Hayden</td>\n",
       "    </tr>\n",
       "    <tr>\n",
       "      <th>9</th>\n",
       "      <td>2010</td>\n",
       "      <td>SR Tendulkar</td>\n",
       "    </tr>\n",
       "    <tr>\n",
       "      <th>11</th>\n",
       "      <td>2011</td>\n",
       "      <td>CH Gayle</td>\n",
       "    </tr>\n",
       "    <tr>\n",
       "      <th>3</th>\n",
       "      <td>2012</td>\n",
       "      <td>CH Gayle</td>\n",
       "    </tr>\n",
       "    <tr>\n",
       "      <th>2</th>\n",
       "      <td>2013</td>\n",
       "      <td>MEK Hussey</td>\n",
       "    </tr>\n",
       "    <tr>\n",
       "      <th>6</th>\n",
       "      <td>2014</td>\n",
       "      <td>RV Uthappa</td>\n",
       "    </tr>\n",
       "    <tr>\n",
       "      <th>17</th>\n",
       "      <td>2015</td>\n",
       "      <td>DA Warner</td>\n",
       "    </tr>\n",
       "    <tr>\n",
       "      <th>0</th>\n",
       "      <td>2016</td>\n",
       "      <td>V Kohli</td>\n",
       "    </tr>\n",
       "    <tr>\n",
       "      <th>7</th>\n",
       "      <td>2017</td>\n",
       "      <td>DA Warner</td>\n",
       "    </tr>\n",
       "  </tbody>\n",
       "</table>\n",
       "</div>"
      ],
      "text/plain": [
       "    season       batsman\n",
       "10    2008      SE Marsh\n",
       "14    2009     ML Hayden\n",
       "9     2010  SR Tendulkar\n",
       "11    2011      CH Gayle\n",
       "3     2012      CH Gayle\n",
       "2     2013    MEK Hussey\n",
       "6     2014    RV Uthappa\n",
       "17    2015     DA Warner\n",
       "0     2016       V Kohli\n",
       "7     2017     DA Warner"
      ]
     },
     "execution_count": 36,
     "metadata": {},
     "output_type": "execute_result"
    }
   ],
   "source": [
    "new.groupby(['season','batsman'])['batsman_runs'].sum().sort_values(ascending=False).reset_index().drop_duplicates(subset= 'season',keep='first').sort_values('season')[['season','batsman']]"
   ]
  },
  {
   "cell_type": "code",
   "execution_count": null,
   "id": "fa15e152-09e5-401a-8669-8f3072f174c5",
   "metadata": {},
   "outputs": [],
   "source": []
  }
 ],
 "metadata": {
  "kernelspec": {
   "display_name": "Python [conda env:base] *",
   "language": "python",
   "name": "conda-base-py"
  },
  "language_info": {
   "codemirror_mode": {
    "name": "ipython",
    "version": 3
   },
   "file_extension": ".py",
   "mimetype": "text/x-python",
   "name": "python",
   "nbconvert_exporter": "python",
   "pygments_lexer": "ipython3",
   "version": "3.12.7"
  }
 },
 "nbformat": 4,
 "nbformat_minor": 5
}
